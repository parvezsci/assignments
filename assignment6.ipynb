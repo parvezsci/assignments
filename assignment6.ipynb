{
  "nbformat": 4,
  "nbformat_minor": 0,
  "metadata": {
    "colab": {
      "provenance": []
    },
    "kernelspec": {
      "name": "python3",
      "display_name": "Python 3"
    },
    "language_info": {
      "name": "python"
    }
  },
  "cells": [
    {
      "cell_type": "code",
      "execution_count": null,
      "metadata": {
        "id": "E60jWjze-c1r"
      },
      "outputs": [],
      "source": []
    },
    {
      "cell_type": "markdown",
      "source": [
        "Q1. Create a python program to sort the given list of tuples based on integer value using a\n",
        "lambda function."
      ],
      "metadata": {
        "id": "UEQbAhAw-eIr"
      }
    },
    {
      "cell_type": "code",
      "source": [
        "t = [('Sachin Tendulkar', 34357), ('Ricky Ponting', 27483), ('Jack Kallis', 25534), ('Virat Kohli', 24936)]\n",
        "s = t.sort(key = lambda  x : x[1])\n",
        "t"
      ],
      "metadata": {
        "id": "16AIIp6e-eyg"
      },
      "execution_count": null,
      "outputs": []
    },
    {
      "cell_type": "code",
      "source": [
        "\n"
      ],
      "metadata": {
        "id": "N5dxpgNx-yQ_"
      },
      "execution_count": null,
      "outputs": []
    },
    {
      "cell_type": "markdown",
      "source": [
        "Q2. Write a Python Program to find the squares of all the numbers in the given list of integers using\n",
        "lambda and map functions."
      ],
      "metadata": {
        "id": "zicdNmE4B9Uv"
      }
    },
    {
      "cell_type": "code",
      "source": [
        "l = [1, 2, 3, 4, 5, 6, 7, 8, 9, 10]\n",
        "list(map(lambda x : x**2 , l))"
      ],
      "metadata": {
        "id": "wbhsRqTR_bxb"
      },
      "execution_count": null,
      "outputs": []
    },
    {
      "cell_type": "markdown",
      "source": [
        "Q3. Write a python program to convert the given list of integers into a tuple of strings. Use map and\n",
        "lambda functions\n",
        "[1, 2, 3, 4, 5, 6, 7, 8, 9, 10]"
      ],
      "metadata": {
        "id": "Y2vNuVQWCVA-"
      }
    },
    {
      "cell_type": "code",
      "source": [
        "l1 =[1, 2, 3, 4, 5, 6, 7, 8, 9, 10]\n",
        "tuple(map (lambda x : str(x) , l1))"
      ],
      "metadata": {
        "colab": {
          "base_uri": "https://localhost:8080/"
        },
        "id": "1MBbXMbICVic",
        "outputId": "641858c8-3f6d-455e-804f-0bf083d35a17"
      },
      "execution_count": null,
      "outputs": [
        {
          "output_type": "execute_result",
          "data": {
            "text/plain": [
              "('1', '2', '3', '4', '5', '6', '7', '8', '9', '10')"
            ]
          },
          "metadata": {},
          "execution_count": 49
        }
      ]
    },
    {
      "cell_type": "markdown",
      "source": [
        "Q4. Write a python program using reduce function to compute the product of a list containing numbers\n",
        "from 1 to 25."
      ],
      "metadata": {
        "id": "WttShaGBDh3s"
      }
    },
    {
      "cell_type": "code",
      "source": [
        "l = [1,2,3,4,5,6,7,8,9,10,11,12,13,14,15,16,17,18,19,20,21,22,23,24,25]\n",
        "from functools import reduce\n",
        "reduce(lambda x,y : x+y , l )"
      ],
      "metadata": {
        "id": "Nji2ZpR0DYCr"
      },
      "execution_count": null,
      "outputs": []
    },
    {
      "cell_type": "markdown",
      "source": [
        "Q5. Write a python program to filter the numbers in a given list that are divisible by 2 and 3 using the\n",
        "filter function.[2, 3, 6, 9, 27, 60, 90, 120, 55, 46]"
      ],
      "metadata": {
        "id": "OnAGj-QhiV9-"
      }
    },
    {
      "cell_type": "code",
      "source": [
        "l1 = [2, 3, 6, 9, 27, 60, 90, 120, 55, 46]\n",
        "list(filter(lambda x  : x % 2==0 ,l1))"
      ],
      "metadata": {
        "id": "66_lVIYkiW0t"
      },
      "execution_count": null,
      "outputs": []
    },
    {
      "cell_type": "code",
      "source": [
        "list(filter(lambda x : x % 3 == 0 , l1))"
      ],
      "metadata": {
        "id": "ZoUvRby4mOJl"
      },
      "execution_count": null,
      "outputs": []
    },
    {
      "cell_type": "markdown",
      "source": [
        "Q6. Write a python program to find palindromes in the given list of strings using lambda and filter\n",
        "function.\n",
        "['python', 'php', 'aba', 'radar', 'level']"
      ],
      "metadata": {
        "id": "sIA4hC4loNL3"
      }
    },
    {
      "cell_type": "code",
      "source": [
        "l =  ['python', 'php', 'aba', 'radar', 'level']\n",
        "result = list(filter(lambda x: (x == \"\".join(reversed(x))), l))\n",
        "print(\"\\nList of palindromes:\")\n",
        "print(result)"
      ],
      "metadata": {
        "id": "wft-ExofoOE6"
      },
      "execution_count": null,
      "outputs": []
    },
    {
      "cell_type": "code",
      "source": [],
      "metadata": {
        "id": "OPn5a_5GoTxW"
      },
      "execution_count": null,
      "outputs": []
    }
  ]
}
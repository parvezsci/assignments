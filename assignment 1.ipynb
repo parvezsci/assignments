{
 "cells": [
  {
   "cell_type": "code",
   "execution_count": 22,
   "id": "5e91b363-8e2d-4534-ac36-487313e1e66e",
   "metadata": {},
   "outputs": [
    {
     "name": "stdout",
     "output_type": "stream",
     "text": [
      " my_str\n",
      "my_list\n",
      "my_float\n",
      "my_tuple\n"
     ]
    }
   ],
   "source": [
    "#Assignment-1\n",
    "#Answer no1-\n",
    "my_str = 'hello world'\n",
    "\n",
    "my_list = [1,2,3,4,5]\n",
    "my_float = 3.14\n",
    "my_tuple = ('apple', 'banana','mango')\n",
    "\n",
    "#output\n",
    "print(' my_str')\n",
    "print('my_list')\n",
    "print('my_float')\n",
    "print('my_tuple')\n",
    "\n"
   ]
  },
  {
   "cell_type": "code",
   "execution_count": null,
   "id": "8c03161f-0915-48d7-b23d-929c9758604c",
   "metadata": {},
   "outputs": [
    {
     "ename": "SyntaxError",
     "evalue": "invalid syntax. Perhaps you forgot a comma? (270919974.py, line 3)",
     "output_type": "error",
     "traceback": [
      "\u001b[0;36m  Cell \u001b[0;32mIn[23], line 3\u001b[0;36m\u001b[0m\n\u001b[0;31m    str(because in double quotes)\u001b[0m\n\u001b[0m        ^\u001b[0m\n\u001b[0;31mSyntaxError\u001b[0m\u001b[0;31m:\u001b[0m invalid syntax. Perhaps you forgot a comma?\n"
     ]
    }
   ],
   "source": [
    "#Answer no.2-\n",
    "Str\n",
    "str(because in double quotes)\n",
    "List\n",
    "Int\n",
    "\n"
   ]
  },
  {
   "cell_type": "code",
   "execution_count": 29,
   "id": "19a3b4f6-2a3d-4ab6-b15e-c67782c9f445",
   "metadata": {},
   "outputs": [
    {
     "data": {
      "text/plain": [
       "'/ used to divide values\\n% for modulus\\n// for floor division\\n** for exponentiation'"
      ]
     },
     "execution_count": 29,
     "metadata": {},
     "output_type": "execute_result"
    }
   ],
   "source": [
    "#Answer no 3-\n",
    "\"\"\"/ used to divide values\n",
    "% for modulus\n",
    "// for floor division\n",
    "** for exponentiation\"\"\"\n",
    "\n"
   ]
  },
  {
   "cell_type": "code",
   "execution_count": 27,
   "id": "cfcdca03-4434-4f4a-9e42-bbddbe8d3616",
   "metadata": {},
   "outputs": [
    {
     "name": "stdout",
     "output_type": "stream",
     "text": [
      "1\n",
      "<class 'int'>\n",
      "2\n",
      "<class 'int'>\n",
      "3\n",
      "<class 'int'>\n",
      "apple\n",
      "<class 'str'>\n",
      "banana\n",
      "<class 'str'>\n",
      "3.14\n",
      "<class 'float'>\n"
     ]
    }
   ],
   "source": [
    "#Answer no 4-\n",
    "list = [1,2,3,'apple', 'banana',3.14,]\n",
    "for i in list:\n",
    "    print(i)\n",
    "    print(type(i))\n",
    "\n"
   ]
  },
  {
   "cell_type": "code",
   "execution_count": 26,
   "id": "1daf6b5f-1314-4a2c-ba99-f06caae87c9d",
   "metadata": {},
   "outputs": [
    {
     "name": "stdout",
     "output_type": "stream",
     "text": [
      "44.0\n",
      "yes a is divisible by b\n"
     ]
    }
   ],
   "source": [
    "#Answer no 5-\n",
    "a = 88\n",
    "b = 2\n",
    "while a / b:\n",
    "    print(a/b)\n",
    "    print(\"yes a is divisible by b\")\n",
    "    break\n"
   ]
  },
  {
   "cell_type": "code",
   "execution_count": 25,
   "id": "1f332c40-fbe1-489a-842f-6ecb37ed8342",
   "metadata": {},
   "outputs": [
    {
     "name": "stdout",
     "output_type": "stream",
     "text": [
      "6 items divisible by 3\n",
      "12 items divisible by 3\n",
      "15 items divisible by 3\n",
      "21 items divisible by 3\n",
      "24 items divisible by 3\n",
      "27 items divisible by 3\n",
      "30 items divisible by 3\n",
      "36 items divisible by 3\n",
      "39 items divisible by 3\n",
      "42 items divisible by 3\n",
      "45 items divisible by 3\n",
      "48 items divisible by 3\n",
      "54 items divisible by 3\n",
      "57 items divisible by 3\n",
      "60 items divisible by 3\n",
      "63 items divisible by 3\n",
      "66 items divisible by 3\n",
      "72 items divisible by 3\n"
     ]
    }
   ],
   "source": [
    "#Answer no 6=\n",
    "list = [2, 6, 8, 12, 15, 17, 20, 21, 24, 27, 30, 32, 36, 39, 42, 45, 48, 50, 54, 57, 60, 63, 66, 70, 72]\n",
    "for i in list :\n",
    "    if i % 3 == 0:\n",
    "        print(i,\"items divisible by 3\")\n",
    "        \n",
    "    \n",
    "#Answer no 6-\n",
    "#Mutable data types allow us to index or remove any value in it like list , and in other hand immutable data types like string havent allow us to index or remove value in it.\n"
   ]
  },
  {
   "cell_type": "code",
   "execution_count": null,
   "id": "f4d4a74f-454a-4395-91b6-71976f06a162",
   "metadata": {},
   "outputs": [],
   "source": []
  }
 ],
 "metadata": {
  "kernelspec": {
   "display_name": "Python 3 (ipykernel)",
   "language": "python",
   "name": "python3"
  },
  "language_info": {
   "codemirror_mode": {
    "name": "ipython",
    "version": 3
   },
   "file_extension": ".py",
   "mimetype": "text/x-python",
   "name": "python",
   "nbconvert_exporter": "python",
   "pygments_lexer": "ipython3",
   "version": "3.10.8"
  }
 },
 "nbformat": 4,
 "nbformat_minor": 5
}

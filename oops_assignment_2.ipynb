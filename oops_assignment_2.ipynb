{
  "nbformat": 4,
  "nbformat_minor": 0,
  "metadata": {
    "colab": {
      "provenance": []
    },
    "kernelspec": {
      "name": "python3",
      "display_name": "Python 3"
    },
    "language_info": {
      "name": "python"
    }
  },
  "cells": [
    {
      "cell_type": "markdown",
      "source": [
        "Q1. Explain Class and Object with respect to Object-Oriented Programming. Give a suitable example."
      ],
      "metadata": {
        "id": "9L1K6clipSui"
      }
    },
    {
      "cell_type": "code",
      "source": [
        "#clasess are the blue print entity of an object and the objects  is the real world entity , objects are the instance of the class , object defines a class and helps to acess the written functions in the class\n",
        "\n",
        "#example\n",
        "class city:\n",
        "  def streets(self):\n",
        "    return \"there are 370 streets in city\"\n",
        "  def areas(self):\n",
        "    return \"there are the 25 areas in city\"\n",
        "\n",
        "obj = city()"
      ],
      "metadata": {
        "id": "CnesH_zqpUsn"
      },
      "execution_count": 1,
      "outputs": []
    },
    {
      "cell_type": "code",
      "source": [
        "obj.streets()\n",
        "obj.areas()"
      ],
      "metadata": {
        "id": "piIgsarRq5Cf"
      },
      "execution_count": null,
      "outputs": []
    },
    {
      "cell_type": "markdown",
      "source": [
        "Q2. Name the four pillars of OOPs."
      ],
      "metadata": {
        "id": "OMElernvrSJp"
      }
    },
    {
      "cell_type": "code",
      "source": [
        "#there are four pillars of OOPs , 1.polymorphism , 2.inheritance , 3.abstraction , 4.encapsulation\n",
        "#inheritance :- inherits the properties of parent class uses it to increase the reusability of the code inheritance has two type 1 . multilabel 2. multiple inheritances\n",
        "#multilabel inheritance example\n",
        "class test1:\n",
        "  def say(self):\n",
        "    return \"welcome to the class\"\n",
        "class test2(test1):\n",
        "  pass\n",
        "t = test2()\n",
        "t.say()\n",
        "#example of multiple inheritance\n",
        "class test1:\n",
        "  def say(self):\n",
        "    return \" this is our first test\"\n",
        "class test2:\n",
        "  def say2 (self):\n",
        "    return \"this is our second test \"\n",
        "class test3(test1,test2):\n",
        "  pass\n",
        "t = test3()\n",
        "t.say()\n",
        "t.say2()\n"
      ],
      "metadata": {
        "id": "Md5ui3cXrQP_"
      },
      "execution_count": null,
      "outputs": []
    },
    {
      "cell_type": "code",
      "source": [
        "#abstraction :- abstraction is used to develop the blueprint of the programme  and it is used in multiple tasks . and we can edit that blueprint according to our purpose.\n",
        "import abc\n",
        "class colony:\n",
        "  @abc.abstractmethod\n",
        "  def homes(self):\n",
        "    pass\n",
        "  @abc.abstractmethod\n",
        "  def peoples(Self):\n",
        "    pass\n",
        "  @abc.abstractmethod\n",
        "  def parks(self):\n",
        "    pass\n",
        ""
      ],
      "metadata": {
        "id": "842MqqLpq7y5"
      },
      "execution_count": 11,
      "outputs": []
    },
    {
      "cell_type": "code",
      "source": [
        "class details(colony):\n",
        "  def homes(self):\n",
        "    return \"there are 250 homes \"\n",
        "  def peoples(self):\n",
        "    return \"there are 1000 peoples\"\n",
        "  def parks (Self):\n",
        "    return \" there are 5 parks \""
      ],
      "metadata": {
        "id": "nfEuHdHNvJJe"
      },
      "execution_count": 12,
      "outputs": []
    },
    {
      "cell_type": "code",
      "source": [
        "d = details()\n",
        "print(d.homes(),d.parks(),d.peoples())"
      ],
      "metadata": {
        "id": "DglwV1a-vh7U"
      },
      "execution_count": null,
      "outputs": []
    },
    {
      "cell_type": "code",
      "source": [
        "#encapsulation:- encpasulation plays an important rolee in hidding data and makes it un accesible for the user . only the data can be used when it goes permitted by the devleoper and getter setter functions are used  to get and set data and hide the whole task.\n",
        "class BankAccount:\n",
        "    def __init__(self, name, balance):\n",
        "        self.name = name\n",
        "        self._balance = balance\n",
        "\n",
        "    def get_balance(self):\n",
        "        return self._balance\n",
        "\n",
        "    def deposit(self, amount):\n",
        "        self._balance += amount\n",
        "\n",
        "    def withdraw(self, amount):\n",
        "        if amount > self._balance:\n",
        "            raise ValueError(\"Insufficient funds\")\n",
        "        self._balance -= amount\n",
        "\n",
        "# Create a new BankAccount object\n",
        "account = BankAccount(\"Alice\", 100)\n",
        "\n",
        "# Deposit $50\n",
        "account.deposit(50)\n",
        "\n",
        "# Withdraw $25\n",
        "account.withdraw(25)\n",
        "\n",
        "# Get the current balance\n",
        "balance = account.get_balance()\n",
        "\n",
        "print(\"Balance:\", balance)\n"
      ],
      "metadata": {
        "id": "ruo3E527vmO0"
      },
      "execution_count": null,
      "outputs": []
    },
    {
      "cell_type": "code",
      "source": [
        "\"\"\"polymorphism :-This means that a single object can behave in different ways depending on the context in which it is used Polymorphism is achieved through two main mechanisms:\n",
        "\n",
        "Overloading: This is when different methods have the same name but different signatures. For example, a draw() method might be overloaded to take different types of shapes as arguments.\n",
        "Overriding: This is when a method in a child class overrides the same method in its parent class. This allows the child class to provide its own implementation of the method.\"\"\"\n",
        "class Shape:\n",
        "    def draw(self):\n",
        "        pass\n",
        "\n",
        "class Circle(Shape):\n",
        "    def draw(self):\n",
        "        print(\"Drawing a circle\")\n",
        "\n",
        "class Square(Shape):\n",
        "    def draw(self):\n",
        "        print(\"Drawing a square\")\n",
        "\n",
        "# Create a list of shapes\n",
        "shapes = [Circle(), Square()]\n",
        "\n",
        "# Iterate over the list of shapes and call the draw() method on each shape\n",
        "for shape in shapes:\n",
        "    shape.draw()\n"
      ],
      "metadata": {
        "id": "4GS9TSdmwURp"
      },
      "execution_count": null,
      "outputs": []
    },
    {
      "cell_type": "code",
      "source": [],
      "metadata": {
        "id": "9y6ADiM1wjNI"
      },
      "execution_count": null,
      "outputs": []
    },
    {
      "cell_type": "markdown",
      "source": [
        "Q3. Explain why the __init__() function is used. Give a suitable example."
      ],
      "metadata": {
        "id": "E61p2AYNy9r2"
      }
    },
    {
      "cell_type": "code",
      "source": [
        "#init is used to initialize values into the class it takes inputs and arguments into the functions of the class and makes it reusable multiple times\n",
        "#example\n",
        "class name:\n",
        "  def __init__(self, a , b, c):\n",
        "    self.a =a\n",
        "    self.b =b\n",
        "    self.c =c\n",
        "  def call(self):\n",
        "    return self.a ,self.b , self.c"
      ],
      "metadata": {
        "id": "9s92AcKty-SH"
      },
      "execution_count": 40,
      "outputs": []
    },
    {
      "cell_type": "code",
      "source": [
        "n = name(\"dheeraj\", \"suraj\",\"devendra1\")"
      ],
      "metadata": {
        "id": "AOrS5htQzr_0"
      },
      "execution_count": 46,
      "outputs": []
    },
    {
      "cell_type": "code",
      "source": [
        "n.call()"
      ],
      "metadata": {
        "id": "aaFada1RzyBs"
      },
      "execution_count": null,
      "outputs": []
    },
    {
      "cell_type": "markdown",
      "source": [
        "Q4. Why self is used in OOPs?"
      ],
      "metadata": {
        "id": "ZLsanjIe0iFm"
      }
    },
    {
      "cell_type": "code",
      "source": [
        "#self is used redirect the function to the class with the help of self class can understand this function is available in it.\n"
      ],
      "metadata": {
        "id": "ths7ghBQz2VG"
      },
      "execution_count": null,
      "outputs": []
    },
    {
      "cell_type": "markdown",
      "source": [
        "Q5. What is inheritance? Give an example for each type of inheritance."
      ],
      "metadata": {
        "id": "F6ghOMvG0tKe"
      }
    },
    {
      "cell_type": "code",
      "source": [
        "#inheritance is important pillar of oops where a child class inherits properties of parents classs\n",
        "class parent:\n",
        "  def say(self):\n",
        "    return \"parents are there\"\n",
        "class child (parent):\n",
        "  def say1(self):\n",
        "    return \"this is the child one\"\n",
        "class child2(child):\n",
        "  def say2(Self):\n",
        "    return \"this is child 2\"\n",
        "class family(child2 ):\n",
        "  pass"
      ],
      "metadata": {
        "id": "qARgGhzh0vjD"
      },
      "execution_count": 50,
      "outputs": []
    },
    {
      "cell_type": "code",
      "source": [
        "f = family()\n",
        "f.say()"
      ],
      "metadata": {
        "id": "qq2XENEu1S4P"
      },
      "execution_count": null,
      "outputs": []
    },
    {
      "cell_type": "code",
      "source": [
        "f.say1()"
      ],
      "metadata": {
        "id": "YChkAviD1ePl"
      },
      "execution_count": null,
      "outputs": []
    },
    {
      "cell_type": "code",
      "source": [
        "f.say2()"
      ],
      "metadata": {
        "colab": {
          "base_uri": "https://localhost:8080/",
          "height": 36
        },
        "id": "CoYEft2x1lpz",
        "outputId": "34a39d96-b966-4c5c-c8fb-6eb62df19fee"
      },
      "execution_count": 55,
      "outputs": [
        {
          "output_type": "execute_result",
          "data": {
            "text/plain": [
              "'this is child 2'"
            ],
            "application/vnd.google.colaboratory.intrinsic+json": {
              "type": "string"
            }
          },
          "metadata": {},
          "execution_count": 55
        }
      ]
    },
    {
      "cell_type": "code",
      "source": [],
      "metadata": {
        "id": "paZKXPza1n1K"
      },
      "execution_count": null,
      "outputs": []
    }
  ]
}
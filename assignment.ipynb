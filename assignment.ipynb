{
 "cells": [
  {
   "cell_type": "markdown",
   "id": "55f075e7-1ee2-4944-b7d4-56e51931ef98",
   "metadata": {},
   "source": [
    "ANSWER NO1:-There are two ways available to comment out python code first using hash# for single line comment . and second for multi line comment which are triple quotes.\n",
    "example :- #pwskills\n",
    "'''pwskills'''\n",
    "\n",
    "\n"
   ]
  },
  {
   "cell_type": "markdown",
   "id": "357cc9bd-9d60-40ba-b8fe-b9a21b8adc02",
   "metadata": {},
   "source": [
    "ANSWER NO 2:- Variables are the containers who stores data in itself , variables should not be a predefined function .\n",
    "example :- \n",
    "a= 'pwskills'\n",
    "b = 'data science'\n",
    "print(a,b)\n"
   ]
  },
  {
   "cell_type": "markdown",
   "id": "f09a5aec-0e14-4cd1-82bd-4d6096a8add4",
   "metadata": {},
   "source": [
    "ANSWER NO 3:- To run the python code in comand line we opens the comand line and in that just type python after that it will show you the version of python and the interpreter will be started after that you can write and execute python queries.\n"
   ]
  },
  {
   "cell_type": "raw",
   "id": "47ffc6d0-3574-481b-b0f1-21c8efd8530d",
   "metadata": {},
   "source": [
    "ANSWER NO 4:- To execute python in comand line just simply open the cmd and type python after this, it will show you the version of python and then you can execute and python script."
   ]
  },
  {
   "cell_type": "code",
   "execution_count": null,
   "id": "07479364-fc7d-40b9-a962-6e07ba6dddfe",
   "metadata": {},
   "outputs": [],
   "source": [
    "#ANSWER NO 5\n",
    "l1 = [1,2,3,4,5]\n",
    "sub_list = l1[1:3]\n",
    "print(sub_list)\n"
   ]
  },
  {
   "cell_type": "markdown",
   "id": "d683461d-adfb-4cb7-aa51-1a53f15dd731",
   "metadata": {},
   "source": [
    "ANSWER NO 6 :- \n",
    "Complex numbers are the numbers which are presented into the form of a+ib , and in python it represented as example 5+4j"
   ]
  },
  {
   "cell_type": "markdown",
   "id": "d8e57744-42f1-4328-adb6-088969c0e826",
   "metadata": {},
   "source": [
    "ANSWER NO 7:- Simple as other variables make a variable named as age = 25 \n",
    "than print it."
   ]
  },
  {
   "cell_type": "code",
   "execution_count": 4,
   "id": "6b53e42f-ef84-450a-8155-d47055a6615f",
   "metadata": {},
   "outputs": [
    {
     "data": {
      "text/plain": [
       "'it will return float variable type'"
      ]
     },
     "execution_count": 4,
     "metadata": {},
     "output_type": "execute_result"
    }
   ],
   "source": [
    "#ANSWER NO 8:_\n",
    "price = 9.99\n",
    "type(price)\n",
    "'''it will return float variable type'''"
   ]
  },
  {
   "cell_type": "code",
   "execution_count": 8,
   "id": "0a77c54a-3a5c-47ef-a021-db0ef3944d4c",
   "metadata": {},
   "outputs": [
    {
     "name": "stdout",
     "output_type": "stream",
     "text": [
      "parvez sheikh\n"
     ]
    }
   ],
   "source": [
    "#ANSWER NO 9:-\n",
    "name = \"parvez sheikh\"\n",
    "print(name)"
   ]
  },
  {
   "cell_type": "code",
   "execution_count": 18,
   "id": "ccfdc5d0-9718-4201-8006-6218634a6e3d",
   "metadata": {},
   "outputs": [
    {
     "data": {
      "text/plain": [
       "'world'"
      ]
     },
     "execution_count": 18,
     "metadata": {},
     "output_type": "execute_result"
    }
   ],
   "source": [
    "# ANSWER NO 10 :-\n",
    " \n",
    "string = \"Hello , world!\"\n",
    "string[8:13]"
   ]
  },
  {
   "cell_type": "code",
   "execution_count": 25,
   "id": "d4b42685-f2ba-44b1-8318-6bc7c508eac2",
   "metadata": {},
   "outputs": [],
   "source": [
    "#Answer No 11:-\n",
    "is_student = True\n",
    "\n"
   ]
  },
  {
   "cell_type": "code",
   "execution_count": 23,
   "id": "78c0a497-8566-4cdb-b6c5-62bf4b33aea7",
   "metadata": {},
   "outputs": [
    {
     "data": {
      "text/plain": [
       "1"
      ]
     },
     "execution_count": 23,
     "metadata": {},
     "output_type": "execute_result"
    }
   ],
   "source": [
    "is_student\n"
   ]
  },
  {
   "cell_type": "code",
   "execution_count": null,
   "id": "33527c59-dd04-4625-a268-6f2304945558",
   "metadata": {},
   "outputs": [],
   "source": []
  }
 ],
 "metadata": {
  "kernelspec": {
   "display_name": "Python 3 (ipykernel)",
   "language": "python",
   "name": "python3"
  },
  "language_info": {
   "codemirror_mode": {
    "name": "ipython",
    "version": 3
   },
   "file_extension": ".py",
   "mimetype": "text/x-python",
   "name": "python",
   "nbconvert_exporter": "python",
   "pygments_lexer": "ipython3",
   "version": "3.10.8"
  }
 },
 "nbformat": 4,
 "nbformat_minor": 5
}

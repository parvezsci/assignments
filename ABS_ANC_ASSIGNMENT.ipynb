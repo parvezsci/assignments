{
  "nbformat": 4,
  "nbformat_minor": 0,
  "metadata": {
    "colab": {
      "provenance": []
    },
    "kernelspec": {
      "name": "python3",
      "display_name": "Python 3"
    },
    "language_info": {
      "name": "python"
    }
  },
  "cells": [
    {
      "cell_type": "markdown",
      "source": [
        "Q1. What is Abstraction in OOps? Explain with an example."
      ],
      "metadata": {
        "id": "A-lUBcuuq1Fq"
      }
    },
    {
      "cell_type": "code",
      "source": [
        "#ABSTRACTION IS THE IMPORTANAT CONCEPT OF OOPS WITH THE HELP OF ABSTRACTION WE CAN CREATE A BLUEPRINT OF SOME OF FUNCTIONS OR CLASESS WHICH WE WANNA TO MAKE AND THAT CAN BE USED MULTIPLE TIMES , WHICH INCREASES CODE REUSABILITY\n",
        "import abc\n",
        "class names:\n",
        "  @abc.abstractmethod\n",
        "  def arun(self):\n",
        "    pass\n",
        "  @abc.abstractmethod\n",
        "  def vijay(self):\n",
        "    pass\n",
        "  @abc.abstractmethod\n",
        "  def sanjay(self):\n",
        "    pass"
      ],
      "metadata": {
        "id": "yo9XTiFYq6DJ"
      },
      "execution_count": 2,
      "outputs": []
    },
    {
      "cell_type": "markdown",
      "source": [
        "Q2. Differentiate between Abstraction and Encapsulation. Explain with an example."
      ],
      "metadata": {
        "id": "xcId-NT4rp6c"
      }
    },
    {
      "cell_type": "code",
      "source": [
        "#encapsulation makes some of elements private which we wanna to private and no one can acess that without creating external acessing process, \"__\" is used to encapsulate  any variable,getter setter is used. adn external functions are used\n",
        "#and abstraction makes the blue print, of aur idea or thought which can be used is projects and team works it includes the clasess and fuctions , import abc module is used which and @abc.abstractmethos is written before every fuction to abstract it.\n",
        "\"\"\"example of abstraction \"\"\"\n",
        "import abc\n",
        "class school:\n",
        "  @abc.abstractmethod\n",
        "  def students(self):\n",
        "    pass\n",
        "  @abc.abstractmethod\n",
        "  def teachers(self):\n",
        "    pass\n",
        "  @abc.abstractmethod\n",
        "  def rooms(self):\n",
        "    pass\n",
        "\n",
        ""
      ],
      "metadata": {
        "id": "6F12pNbYrOrc"
      },
      "execution_count": 17,
      "outputs": []
    },
    {
      "cell_type": "code",
      "source": [
        "#example of encapsulation\n",
        "class details:\n",
        "  def __init__(self, name , age , number):\n",
        "    self.__name = name\n",
        "    self.__number = number\n",
        "    self.__age = age\n",
        "  def get_details(self):\n",
        "    return self.__name , self.__age , self.__number\n"
      ],
      "metadata": {
        "id": "cbR3OfR5tlqG"
      },
      "execution_count": 19,
      "outputs": []
    },
    {
      "cell_type": "code",
      "source": [
        "d = details(\"avinash\" , 25 , 8789855552)"
      ],
      "metadata": {
        "id": "xu3lyAJOukwL"
      },
      "execution_count": 20,
      "outputs": []
    },
    {
      "cell_type": "code",
      "source": [
        "d.get_details()"
      ],
      "metadata": {
        "id": "ZhWg69wluqet"
      },
      "execution_count": null,
      "outputs": []
    },
    {
      "cell_type": "markdown",
      "source": [
        "Q3. What is abc module in python? Why is it used?"
      ],
      "metadata": {
        "id": "KHxGrLFRv-Ap"
      }
    },
    {
      "cell_type": "code",
      "source": [
        "# abc is an python module which provides the structure to custom base clasess, @abc.abstractmethod is used before every methos or the function , and works by marking methods of class as abstract and"
      ],
      "metadata": {
        "id": "2T0shSE3v4_F"
      },
      "execution_count": 22,
      "outputs": []
    },
    {
      "cell_type": "markdown",
      "source": [
        "Q4. How can we achieve data abstraction?"
      ],
      "metadata": {
        "id": "8WzSg_3Gwktl"
      }
    },
    {
      "cell_type": "code",
      "source": [
        "#data abstraction is the important process in opps who creates the blueprint by using clasess and the functions which are called methods and it makes  an infrastructure which can be used multiple times it is called data abstraction , in python we use  abc module to use it  adn before every method @ abc.abstractmethos is written to define the infrastructure\n"
      ],
      "metadata": {
        "id": "_AlcKle8wl4N"
      },
      "execution_count": 30,
      "outputs": []
    },
    {
      "cell_type": "markdown",
      "source": [
        "Q5. Can we create an instance of an abstract class? Explain your answer."
      ],
      "metadata": {
        "id": "hlEK5bxIy7Ny"
      }
    },
    {
      "cell_type": "code",
      "source": [
        "#No, we cannot create an instance of an abstract class in Python. they are used as an template to inherit from abstract class is just a blueprint adn subclasess uses that dor completing the task by following the structure\n",
        "import abc\n",
        "\n",
        "class Vehicle():\n",
        "    @abc.abstractmethod\n",
        "    def drive(self):\n",
        "        pass\n",
        "\n",
        "    @abc.abstractmethod\n",
        "    def stop(self):\n",
        "        pass\n",
        "\n",
        "class Car(Vehicle):\n",
        "    def drive(self):\n",
        "        print(\"The car is driving.\")\n",
        "\n",
        "    def stop(self):\n",
        "        print(\"The car has stopped.\")\n",
        "\n",
        "class Bicycle(Vehicle):\n",
        "    def drive(self):\n",
        "        print(\"The bicycle is being pedaled.\")\n",
        "\n",
        "    def stop(self):\n",
        "        print(\"The bicycle has stopped being pedaled.\")\n",
        "\n",
        "# can t create the instance like folowing\n",
        "# vehicle = Vehicle()\n",
        "\n",
        "# subclass  uses\n",
        "car = Car()\n",
        "bicycle = Bicycle()\n",
        "\n",
        "# We can then call the drive() and stop()\n",
        "car.drive()\n",
        "car.stop()\n",
        "bicycle.drive()\n",
        "bicycle.stop()\n"
      ],
      "metadata": {
        "id": "sxqzlgqzxSBL"
      },
      "execution_count": null,
      "outputs": []
    },
    {
      "cell_type": "code",
      "source": [],
      "metadata": {
        "id": "Rt1GITm4x7Hr"
      },
      "execution_count": null,
      "outputs": []
    },
    {
      "cell_type": "code",
      "source": [],
      "metadata": {
        "id": "cAWj07VmyC5j"
      },
      "execution_count": null,
      "outputs": []
    }
  ]
}
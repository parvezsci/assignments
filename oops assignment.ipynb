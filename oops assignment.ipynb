{
  "nbformat": 4,
  "nbformat_minor": 0,
  "metadata": {
    "colab": {
      "provenance": []
    },
    "kernelspec": {
      "name": "python3",
      "display_name": "Python 3"
    },
    "language_info": {
      "name": "python"
    }
  },
  "cells": [
    {
      "cell_type": "markdown",
      "source": [
        "Q1, Create a vehicle class with an init method having instance variables as name_of_vehicle, max_speed\n",
        "and average_of_vehicle."
      ],
      "metadata": {
        "id": "F5UgrSvEn9gn"
      }
    },
    {
      "cell_type": "code",
      "source": [
        "class vehicle:\n",
        "  def __init__(self, name, max_speed, average):\n",
        "    self.name = name\n",
        "    self.max_speed = max_speed\n",
        "    self.average = average\n",
        "  def calling(self):\n",
        "    return self.name, self.max_speed, self.average"
      ],
      "metadata": {
        "id": "KxMlDNISn-IE"
      },
      "execution_count": null,
      "outputs": []
    },
    {
      "cell_type": "code",
      "source": [
        "hyundai = vehicle(\"venue\" , 165 , 17.52)\n",
        "mahindra = vehicle(\"scorpio n\", 165 ,15)"
      ],
      "metadata": {
        "id": "d4lElqD6ouWZ"
      },
      "execution_count": null,
      "outputs": []
    },
    {
      "cell_type": "code",
      "source": [
        "mahindra.calling()\n",
        "hyundai.calling()"
      ],
      "metadata": {
        "colab": {
          "base_uri": "https://localhost:8080/"
        },
        "id": "5-hTX4CFox9_",
        "outputId": "3db1717c-7a2c-4ff5-852c-09c72c6e1bc7"
      },
      "execution_count": null,
      "outputs": [
        {
          "output_type": "execute_result",
          "data": {
            "text/plain": [
              "('venue', 165, 17.52)"
            ]
          },
          "metadata": {},
          "execution_count": 5
        }
      ]
    },
    {
      "cell_type": "markdown",
      "source": [
        "Q2. Create a child class car from the vehicle class created in Que 1, which will inherit the vehicle class.\n",
        "Create a method named seating_capacity which takes capacity as an argument and returns the name of\n",
        "the vehicle and its seating capacity."
      ],
      "metadata": {
        "id": "NunSh4F3rxkG"
      }
    },
    {
      "cell_type": "code",
      "source": [
        "\n",
        "class car(vehicle):#child class who inherits the vehicle class\n",
        "  def seating_capacity(a): #method which will take capacity as an argument and will print the output according to capacity\n",
        "    if a == 7:\n",
        "      print(\"mahindra xuv 700\")\n",
        "    elif a == 5:\n",
        "      print(\"creta venue\")\n",
        "    else:\n",
        "      print(\"not available\")\n"
      ],
      "metadata": {
        "id": "PggL9II-DLJP"
      },
      "execution_count": null,
      "outputs": []
    },
    {
      "cell_type": "code",
      "source": [
        "d = car\n",
        "d.seating_capacity(7)"
      ],
      "metadata": {
        "id": "mPmH5-9PDMAT",
        "colab": {
          "base_uri": "https://localhost:8080/"
        },
        "outputId": "9b21a7b0-db5f-415a-b872-707c50a098a6"
      },
      "execution_count": null,
      "outputs": [
        {
          "output_type": "stream",
          "name": "stdout",
          "text": [
            "mahindra xuv 700\n"
          ]
        }
      ]
    },
    {
      "cell_type": "markdown",
      "source": [
        "Q3. What is multiple inheritance? Write a python code to demonstrate multiple inheritance."
      ],
      "metadata": {
        "id": "VN4DlxdNjkeg"
      }
    },
    {
      "cell_type": "markdown",
      "source": [
        "multiple inhetance where we can access the content of previous clasess combined in one  class."
      ],
      "metadata": {
        "id": "aS8HIQi3qRYF"
      }
    },
    {
      "cell_type": "code",
      "source": [
        "#example of multiple inheritance\n",
        "class employee:\n",
        "  def names(self):\n",
        "    return [\"sohan\", \"mohan\", \"vijay \", [\"nandkishor\"]]"
      ],
      "metadata": {
        "id": "1xU8WWpEqdfo"
      },
      "execution_count": null,
      "outputs": []
    },
    {
      "cell_type": "code",
      "source": [
        "class salary:\n",
        "  def sal(self):\n",
        "    return [2500,1200,4100,3200]"
      ],
      "metadata": {
        "id": "wME6esh-rYMn"
      },
      "execution_count": null,
      "outputs": []
    },
    {
      "cell_type": "code",
      "source": [
        "class record(employee, salary):\n",
        "  pass"
      ],
      "metadata": {
        "id": "csvNvfVlrfWr"
      },
      "execution_count": null,
      "outputs": []
    },
    {
      "cell_type": "code",
      "source": [
        "rec =  record()"
      ],
      "metadata": {
        "id": "wxd8DBgsrtAQ"
      },
      "execution_count": null,
      "outputs": []
    },
    {
      "cell_type": "code",
      "source": [
        "print(rec.names(),rec.sal())"
      ],
      "metadata": {
        "id": "Lv1hh6QyrxOD"
      },
      "execution_count": null,
      "outputs": []
    },
    {
      "cell_type": "markdown",
      "source": [
        "Q4. What are getter and setter in python? Create a class and create a getter and a setter method in this\n",
        "class."
      ],
      "metadata": {
        "id": "kWrs9mhfgOcM"
      }
    },
    {
      "cell_type": "code",
      "source": [
        "#getter setter are basically a method declared by to get some value or set some value in encapsulated clasess\n",
        "class school:\n",
        "  def __init__(self,rooms,teachers,students):\n",
        "    self.__rooms = rooms\n",
        "    self.__teachers = teachers\n",
        "    self.__students = students\n",
        "#to get details of this class getter\n",
        "  def getdetails(self):\n",
        "    return self.__rooms, self.__teachers, self.__students\n",
        "    #setter\n",
        "  def setter(self,x,y,z):\n",
        "    self.__rooms = x\n",
        "    self.__teachers = y\n",
        "    self.students = z\n",
        ""
      ],
      "metadata": {
        "id": "yahaYrkSgPoP"
      },
      "execution_count": 8,
      "outputs": []
    },
    {
      "cell_type": "code",
      "source": [
        "d = school(30,500,30)"
      ],
      "metadata": {
        "id": "VlWEEb8QhsIq"
      },
      "execution_count": 9,
      "outputs": []
    },
    {
      "cell_type": "code",
      "source": [
        "d.getdetails()"
      ],
      "metadata": {
        "id": "nJi2io-RiiTc"
      },
      "execution_count": null,
      "outputs": []
    },
    {
      "cell_type": "code",
      "source": [
        "d.setter(15,200,21)"
      ],
      "metadata": {
        "id": "NS2uIBp4iqUr"
      },
      "execution_count": 11,
      "outputs": []
    },
    {
      "cell_type": "code",
      "source": [
        "d.getdetails()"
      ],
      "metadata": {
        "id": "9agisGPCi-YD"
      },
      "execution_count": null,
      "outputs": []
    },
    {
      "cell_type": "markdown",
      "source": [
        "Q5.What is method overriding in python? Write a python code to demonstrate method overriding."
      ],
      "metadata": {
        "id": "2iXKOo-jjHZw"
      }
    },
    {
      "cell_type": "code",
      "source": [
        "#Method overriding in Python is a feature of object-oriented programming that allows a subclass to provide its own implementation of a method that is already defined in its superclass. This allows the subclass to specialize the behavior of the method for its own needs.\n",
        "class Animal:\n",
        "    def speak(self):\n",
        "        print(\"Animal sound\")\n",
        "\n",
        "class Dog(Animal):\n",
        "    def speak(self):\n",
        "        print(\"Woof!\")\n",
        "\n",
        "# Create a Dog object\n",
        "dog = Dog()\n",
        "\n",
        "# Call the speak() method on the Dog object\n",
        "dog.speak()\n"
      ],
      "metadata": {
        "id": "gs0PVetdjIL_"
      },
      "execution_count": null,
      "outputs": []
    },
    {
      "cell_type": "code",
      "source": [],
      "metadata": {
        "id": "6q3sp7oLkVqm"
      },
      "execution_count": null,
      "outputs": []
    }
  ]
}
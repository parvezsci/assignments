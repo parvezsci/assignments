{
  "nbformat": 4,
  "nbformat_minor": 0,
  "metadata": {
    "colab": {
      "provenance": [],
      "toc_visible": true
    },
    "kernelspec": {
      "name": "python3",
      "display_name": "Python 3"
    },
    "language_info": {
      "name": "python"
    }
  },
  "cells": [
    {
      "cell_type": "markdown",
      "source": [
        "Q1. Which keyword is used to create a function? Create a function to return a list of odd numbers in the\n",
        "range of 1 to 25.\n"
      ],
      "metadata": {
        "id": "D-4GbrBmS6hi"
      }
    },
    {
      "cell_type": "code",
      "source": [
        "# def keyword is used to create a function. example is below\n",
        "def odd():\n",
        "  for i in range(1,25):\n",
        "    if i % 2 !=0 :\n",
        "      print( i)"
      ],
      "metadata": {
        "id": "z4HIms5sS-Ca"
      },
      "execution_count": 4,
      "outputs": []
    },
    {
      "cell_type": "code",
      "source": [
        "odd()"
      ],
      "metadata": {
        "id": "OhzmLTCHTbnp"
      },
      "execution_count": null,
      "outputs": []
    },
    {
      "cell_type": "code",
      "source": [],
      "metadata": {
        "id": "Zsf_nF2JTiWt"
      },
      "execution_count": null,
      "outputs": []
    },
    {
      "cell_type": "markdown",
      "source": [
        "Q2. Why *args and **kwargs is used in some functions? Create a function each for *args and **kwargs\n",
        "to demonstrate their use."
      ],
      "metadata": {
        "id": "HsqRni_eTsSV"
      }
    },
    {
      "cell_type": "code",
      "source": [
        "#*args and **kwargs is used to acces the values in function these are called as staric and for single inputs like int float list etc * args is used . but for dictorial type inputs **kwargs is used\n",
        "def exp(*args):\n",
        "  return args\n",
        "def exp2(**kwargs):\n",
        "  return kwargs"
      ],
      "metadata": {
        "id": "FCldBLoZTx8I"
      },
      "execution_count": 8,
      "outputs": []
    },
    {
      "cell_type": "code",
      "source": [
        "exp(1,2,3,5, \"hello\", [12,58,69,])\n"
      ],
      "metadata": {
        "id": "kw0-Y8m6UKzW"
      },
      "execution_count": null,
      "outputs": []
    },
    {
      "cell_type": "code",
      "source": [
        "exp2(a=12585, b = \"heyy\" , c = [25,889,745])"
      ],
      "metadata": {
        "id": "JzuBuFE7UbhM"
      },
      "execution_count": null,
      "outputs": []
    },
    {
      "cell_type": "code",
      "source": [],
      "metadata": {
        "id": "iL1FKLPuUv90"
      },
      "execution_count": null,
      "outputs": []
    },
    {
      "cell_type": "markdown",
      "source": [],
      "metadata": {
        "id": "CuxOmcO8Ux4l"
      }
    },
    {
      "cell_type": "markdown",
      "source": [
        "Q3. What is an iterator in python? Name the method used to initialise the iterator object and the method\n",
        "used for iteration. Use these methods to print the first five elements of the given list [2, 4, 6, 8, 10, 12, 14,\n",
        "16, 18, 20]."
      ],
      "metadata": {
        "id": "_YS8UqqGUx-D"
      }
    },
    {
      "cell_type": "code",
      "source": [
        "#iterator function is  used in for loop and it represents how the for loop uses the object to iterate it and print the next object.\n",
        "l = [2, 4, 6, 8, 10, 12, 14, 16, 18, 20]\n",
        "l1 = iter(l)# used to make list a iterable variable"
      ],
      "metadata": {
        "id": "8gBKIGQKUyrE"
      },
      "execution_count": 16,
      "outputs": []
    },
    {
      "cell_type": "code",
      "source": [
        "next(l1)"
      ],
      "metadata": {
        "id": "llxOPvhxVD2F"
      },
      "execution_count": null,
      "outputs": []
    },
    {
      "cell_type": "code",
      "source": [
        "next(l1) # and so on we can print the whole list by next"
      ],
      "metadata": {
        "id": "_C07ojcPVMRo"
      },
      "execution_count": null,
      "outputs": []
    },
    {
      "cell_type": "code",
      "source": [],
      "metadata": {
        "id": "QPzfJIGzVcyf"
      },
      "execution_count": null,
      "outputs": []
    },
    {
      "cell_type": "markdown",
      "source": [
        "Q4. What is a generator function in python? Why yield keyword is used? Give an example of a generator\n",
        "function."
      ],
      "metadata": {
        "id": "wFjBAcMIVeNF"
      }
    },
    {
      "cell_type": "code",
      "source": [
        "#generator function are used to generate the values . and yield is used to point a value in generator function a value once yield then it will take the next .\n",
        "for i in range(5):\n",
        "  print(i)\n",
        "\n",
        "#example 2\n",
        "def gener(n):\n",
        "  a,b = 0,1\n",
        "  for i in range(n):\n",
        "    yield a\n",
        "    a,b = b , a+b"
      ],
      "metadata": {
        "id": "_TBR9s_rVet-"
      },
      "execution_count": null,
      "outputs": []
    },
    {
      "cell_type": "code",
      "source": [
        "for i in gener(10):\n",
        "  print(i)"
      ],
      "metadata": {
        "id": "LRP8yTBJV0f8"
      },
      "execution_count": null,
      "outputs": []
    },
    {
      "cell_type": "code",
      "source": [],
      "metadata": {
        "id": "0ES3o417WSlA"
      },
      "execution_count": null,
      "outputs": []
    },
    {
      "cell_type": "markdown",
      "source": [
        "Q5. Create a generator function for prime numbers less than 1000. Use the next() method to print the\n",
        "first 20 prime numbers."
      ],
      "metadata": {
        "id": "Trclhx11WYkY"
      }
    },
    {
      "cell_type": "code",
      "source": [
        "def primes():\n",
        "    \"\"\"Create a generator function for prime numbers less than 1000.\"\"\"\n",
        "    yield 2\n",
        "    primes_list = [2]\n",
        "    for i in range(3, 1000):\n",
        "        is_prime = True\n",
        "        for prime in primes_list:\n",
        "            if i % prime == 0:\n",
        "                is_prime = False\n",
        "                break\n",
        "        if is_prime:\n",
        "            primes_list.append(i)\n",
        "            yield i\n",
        "\n",
        "prime_gen = primes()\n",
        "# the next() method to print the first 20 prime numbers.\n",
        "for i in range(20):\n",
        "    print(next(prime_gen))"
      ],
      "metadata": {
        "id": "2zVrzADzWZMS"
      },
      "execution_count": null,
      "outputs": []
    },
    {
      "cell_type": "markdown",
      "source": [
        "Q6. Write a python program to print the first 10 Fibonacci numbers using a while loop."
      ],
      "metadata": {
        "id": "pYuSOfszaIuk"
      }
    },
    {
      "cell_type": "code",
      "source": [
        "def fibnum(n):\n",
        "  a,b = 0,1\n",
        "  while True:\n",
        "    yield a\n",
        "    a,b = b , a+b\n",
        "fib = fibnum(n)\n",
        "for i in range(10):\n",
        "  print(next(fib))"
      ],
      "metadata": {
        "id": "rDWQPsOlWz2Z"
      },
      "execution_count": null,
      "outputs": []
    },
    {
      "cell_type": "code",
      "source": [],
      "metadata": {
        "id": "DsWVJRYWX2c2"
      },
      "execution_count": null,
      "outputs": []
    },
    {
      "cell_type": "markdown",
      "source": [
        "Q7. Write a List Comprehension to iterate through the given string: ‘pwskills’.\n",
        "Expected output: ['p', 'w', 's', 'k', 'i', 'l', 'l', 's']"
      ],
      "metadata": {
        "id": "K1ffqT7oaldz"
      }
    },
    {
      "cell_type": "code",
      "source": [
        "s = 'pwskills'\n",
        "s1  = [char for char in s]\n",
        "print(s1)\n"
      ],
      "metadata": {
        "colab": {
          "base_uri": "https://localhost:8080/"
        },
        "id": "7kDFVo09amDE",
        "outputId": "e8c99c3b-5a99-409b-c10b-75c6d9ca4a6d"
      },
      "execution_count": 63,
      "outputs": [
        {
          "output_type": "stream",
          "name": "stdout",
          "text": [
            "['p', 'w', 's', 'k', 'i', 'l', 'l', 's']\n"
          ]
        }
      ]
    },
    {
      "cell_type": "code",
      "source": [],
      "metadata": {
        "colab": {
          "base_uri": "https://localhost:8080/"
        },
        "id": "1Q0iISE0atM-",
        "outputId": "366bcb6d-d11e-4755-af74-57ffe6bd6faf"
      },
      "execution_count": 60,
      "outputs": [
        {
          "output_type": "stream",
          "name": "stdout",
          "text": [
            "['p', 'w', 's', 'k', 'i', 'l', 'l', 's']\n"
          ]
        }
      ]
    },
    {
      "cell_type": "markdown",
      "source": [
        "Q8. Write a python program to check whether a given number is Palindrome or not using a while loop."
      ],
      "metadata": {
        "id": "LIk_qc3-bRNB"
      }
    },
    {
      "cell_type": "code",
      "source": [
        "n = int(input(\"Please give a number : \"))\n",
        "def reverse(num):\n",
        "    if num<10:\n",
        "      return num\n",
        "    else:\n",
        "      return int(str(num%10) + str(reverse(num//10)))\n",
        "def isPalindrome(num):\n",
        "    if num == reverse(num):\n",
        "        return 1\n",
        "    return 0\n",
        "if isPalindrome(n) == 1:\n",
        "    print(\"Given number is a palindrome\")\n",
        "else:\n",
        "    print(\"Given number is a not palindrome\")"
      ],
      "metadata": {
        "id": "8BJTM--3a1-e"
      },
      "execution_count": null,
      "outputs": []
    },
    {
      "cell_type": "markdown",
      "source": [
        "Q9. Write a code to print odd numbers from 1 to 100 using list comprehension."
      ],
      "metadata": {
        "id": "JZ9395M3bifA"
      }
    },
    {
      "cell_type": "code",
      "source": [
        "[i for i in range(1,100) if i % 2 != 0 ]"
      ],
      "metadata": {
        "id": "7UZEx7B8bkrT"
      },
      "execution_count": null,
      "outputs": []
    },
    {
      "cell_type": "code",
      "source": [],
      "metadata": {
        "id": "y-48kaNacEPK"
      },
      "execution_count": null,
      "outputs": []
    }
  ]
}